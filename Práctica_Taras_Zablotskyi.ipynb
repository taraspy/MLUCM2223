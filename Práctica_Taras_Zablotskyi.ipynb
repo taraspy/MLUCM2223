{
  "nbformat": 4,
  "nbformat_minor": 0,
  "metadata": {
    "colab": {
      "provenance": [],
      "authorship_tag": "ABX9TyOfmMqrUECAfY6J0sDIlH4o",
      "include_colab_link": true
    },
    "kernelspec": {
      "name": "python3",
      "display_name": "Python 3"
    },
    "language_info": {
      "name": "python"
    }
  },
  "cells": [
    {
      "cell_type": "markdown",
      "metadata": {
        "id": "view-in-github",
        "colab_type": "text"
      },
      "source": [
        "<a href=\"https://colab.research.google.com/github/taraspy/MLUCM2223/blob/main/Pr%C3%A1ctica_Taras_Zablotskyi.ipynb\" target=\"_parent\"><img src=\"https://colab.research.google.com/assets/colab-badge.svg\" alt=\"Open In Colab\"/></a>"
      ]
    },
    {
      "cell_type": "code",
      "execution_count": 49,
      "metadata": {
        "id": "1lgj1LglVVxy"
      },
      "outputs": [],
      "source": [
        "import numpy  as np  \n",
        "import pandas as pd"
      ]
    },
    {
      "cell_type": "code",
      "source": [
        "airbnb_data = pd.read_csv(\"./airbnb-listings-cleaned (3).csv\")\n",
        "airbnb_data.head().T\n"
      ],
      "metadata": {
        "colab": {
          "base_uri": "https://localhost:8080/",
          "height": 424
        },
        "id": "LiK5xuj7V6WH",
        "outputId": "83764356-f540-45b9-c1c0-fe24e0700f0a"
      },
      "execution_count": 50,
      "outputs": [
        {
          "output_type": "execute_result",
          "data": {
            "text/plain": [
              "                                                       0           1  \\\n",
              "id                                                 10080       11400   \n",
              "experiences_offered                                 none        none   \n",
              "host_id                                            30899       42305   \n",
              "host_name                                           Rami      Jaynne   \n",
              "host_since                                    2009-08-10  2009-09-30   \n",
              "...                                                  ...         ...   \n",
              "calculated_host_listings_count                        31           1   \n",
              "calculated_host_listings_count_entire_homes           31           0   \n",
              "calculated_host_listings_count_private_rooms           0           1   \n",
              "calculated_host_listings_count_shared_rooms            0           0   \n",
              "reviews_per_month                                   0.18        0.64   \n",
              "\n",
              "                                                        2           3  \\\n",
              "id                                                  13188       13357   \n",
              "experiences_offered                                  none        none   \n",
              "host_id                                             51466       52118   \n",
              "host_name                                     Family Guns     Liliana   \n",
              "host_since                                     2009-11-04  2009-11-07   \n",
              "...                                                   ...         ...   \n",
              "calculated_host_listings_count                          1           2   \n",
              "calculated_host_listings_count_entire_homes             1           2   \n",
              "calculated_host_listings_count_private_rooms            0           0   \n",
              "calculated_host_listings_count_shared_rooms             0           0   \n",
              "reviews_per_month                                    1.51        0.51   \n",
              "\n",
              "                                                       4  \n",
              "id                                                 13358  \n",
              "experiences_offered                                 none  \n",
              "host_id                                            52116  \n",
              "host_name                                           Lynn  \n",
              "host_since                                    2009-11-07  \n",
              "...                                                  ...  \n",
              "calculated_host_listings_count                         1  \n",
              "calculated_host_listings_count_entire_homes            1  \n",
              "calculated_host_listings_count_private_rooms           0  \n",
              "calculated_host_listings_count_shared_rooms            0  \n",
              "reviews_per_month                                   3.65  \n",
              "\n",
              "[82 rows x 5 columns]"
            ],
            "text/html": [
              "\n",
              "  <div id=\"df-f4439c9e-2e5b-454d-9a45-099a7bf827ee\">\n",
              "    <div class=\"colab-df-container\">\n",
              "      <div>\n",
              "<style scoped>\n",
              "    .dataframe tbody tr th:only-of-type {\n",
              "        vertical-align: middle;\n",
              "    }\n",
              "\n",
              "    .dataframe tbody tr th {\n",
              "        vertical-align: top;\n",
              "    }\n",
              "\n",
              "    .dataframe thead th {\n",
              "        text-align: right;\n",
              "    }\n",
              "</style>\n",
              "<table border=\"1\" class=\"dataframe\">\n",
              "  <thead>\n",
              "    <tr style=\"text-align: right;\">\n",
              "      <th></th>\n",
              "      <th>0</th>\n",
              "      <th>1</th>\n",
              "      <th>2</th>\n",
              "      <th>3</th>\n",
              "      <th>4</th>\n",
              "    </tr>\n",
              "  </thead>\n",
              "  <tbody>\n",
              "    <tr>\n",
              "      <th>id</th>\n",
              "      <td>10080</td>\n",
              "      <td>11400</td>\n",
              "      <td>13188</td>\n",
              "      <td>13357</td>\n",
              "      <td>13358</td>\n",
              "    </tr>\n",
              "    <tr>\n",
              "      <th>experiences_offered</th>\n",
              "      <td>none</td>\n",
              "      <td>none</td>\n",
              "      <td>none</td>\n",
              "      <td>none</td>\n",
              "      <td>none</td>\n",
              "    </tr>\n",
              "    <tr>\n",
              "      <th>host_id</th>\n",
              "      <td>30899</td>\n",
              "      <td>42305</td>\n",
              "      <td>51466</td>\n",
              "      <td>52118</td>\n",
              "      <td>52116</td>\n",
              "    </tr>\n",
              "    <tr>\n",
              "      <th>host_name</th>\n",
              "      <td>Rami</td>\n",
              "      <td>Jaynne</td>\n",
              "      <td>Family Guns</td>\n",
              "      <td>Liliana</td>\n",
              "      <td>Lynn</td>\n",
              "    </tr>\n",
              "    <tr>\n",
              "      <th>host_since</th>\n",
              "      <td>2009-08-10</td>\n",
              "      <td>2009-09-30</td>\n",
              "      <td>2009-11-04</td>\n",
              "      <td>2009-11-07</td>\n",
              "      <td>2009-11-07</td>\n",
              "    </tr>\n",
              "    <tr>\n",
              "      <th>...</th>\n",
              "      <td>...</td>\n",
              "      <td>...</td>\n",
              "      <td>...</td>\n",
              "      <td>...</td>\n",
              "      <td>...</td>\n",
              "    </tr>\n",
              "    <tr>\n",
              "      <th>calculated_host_listings_count</th>\n",
              "      <td>31</td>\n",
              "      <td>1</td>\n",
              "      <td>1</td>\n",
              "      <td>2</td>\n",
              "      <td>1</td>\n",
              "    </tr>\n",
              "    <tr>\n",
              "      <th>calculated_host_listings_count_entire_homes</th>\n",
              "      <td>31</td>\n",
              "      <td>0</td>\n",
              "      <td>1</td>\n",
              "      <td>2</td>\n",
              "      <td>1</td>\n",
              "    </tr>\n",
              "    <tr>\n",
              "      <th>calculated_host_listings_count_private_rooms</th>\n",
              "      <td>0</td>\n",
              "      <td>1</td>\n",
              "      <td>0</td>\n",
              "      <td>0</td>\n",
              "      <td>0</td>\n",
              "    </tr>\n",
              "    <tr>\n",
              "      <th>calculated_host_listings_count_shared_rooms</th>\n",
              "      <td>0</td>\n",
              "      <td>0</td>\n",
              "      <td>0</td>\n",
              "      <td>0</td>\n",
              "      <td>0</td>\n",
              "    </tr>\n",
              "    <tr>\n",
              "      <th>reviews_per_month</th>\n",
              "      <td>0.18</td>\n",
              "      <td>0.64</td>\n",
              "      <td>1.51</td>\n",
              "      <td>0.51</td>\n",
              "      <td>3.65</td>\n",
              "    </tr>\n",
              "  </tbody>\n",
              "</table>\n",
              "<p>82 rows × 5 columns</p>\n",
              "</div>\n",
              "      <button class=\"colab-df-convert\" onclick=\"convertToInteractive('df-f4439c9e-2e5b-454d-9a45-099a7bf827ee')\"\n",
              "              title=\"Convert this dataframe to an interactive table.\"\n",
              "              style=\"display:none;\">\n",
              "        \n",
              "  <svg xmlns=\"http://www.w3.org/2000/svg\" height=\"24px\"viewBox=\"0 0 24 24\"\n",
              "       width=\"24px\">\n",
              "    <path d=\"M0 0h24v24H0V0z\" fill=\"none\"/>\n",
              "    <path d=\"M18.56 5.44l.94 2.06.94-2.06 2.06-.94-2.06-.94-.94-2.06-.94 2.06-2.06.94zm-11 1L8.5 8.5l.94-2.06 2.06-.94-2.06-.94L8.5 2.5l-.94 2.06-2.06.94zm10 10l.94 2.06.94-2.06 2.06-.94-2.06-.94-.94-2.06-.94 2.06-2.06.94z\"/><path d=\"M17.41 7.96l-1.37-1.37c-.4-.4-.92-.59-1.43-.59-.52 0-1.04.2-1.43.59L10.3 9.45l-7.72 7.72c-.78.78-.78 2.05 0 2.83L4 21.41c.39.39.9.59 1.41.59.51 0 1.02-.2 1.41-.59l7.78-7.78 2.81-2.81c.8-.78.8-2.07 0-2.86zM5.41 20L4 18.59l7.72-7.72 1.47 1.35L5.41 20z\"/>\n",
              "  </svg>\n",
              "      </button>\n",
              "      \n",
              "  <style>\n",
              "    .colab-df-container {\n",
              "      display:flex;\n",
              "      flex-wrap:wrap;\n",
              "      gap: 12px;\n",
              "    }\n",
              "\n",
              "    .colab-df-convert {\n",
              "      background-color: #E8F0FE;\n",
              "      border: none;\n",
              "      border-radius: 50%;\n",
              "      cursor: pointer;\n",
              "      display: none;\n",
              "      fill: #1967D2;\n",
              "      height: 32px;\n",
              "      padding: 0 0 0 0;\n",
              "      width: 32px;\n",
              "    }\n",
              "\n",
              "    .colab-df-convert:hover {\n",
              "      background-color: #E2EBFA;\n",
              "      box-shadow: 0px 1px 2px rgba(60, 64, 67, 0.3), 0px 1px 3px 1px rgba(60, 64, 67, 0.15);\n",
              "      fill: #174EA6;\n",
              "    }\n",
              "\n",
              "    [theme=dark] .colab-df-convert {\n",
              "      background-color: #3B4455;\n",
              "      fill: #D2E3FC;\n",
              "    }\n",
              "\n",
              "    [theme=dark] .colab-df-convert:hover {\n",
              "      background-color: #434B5C;\n",
              "      box-shadow: 0px 1px 3px 1px rgba(0, 0, 0, 0.15);\n",
              "      filter: drop-shadow(0px 1px 2px rgba(0, 0, 0, 0.3));\n",
              "      fill: #FFFFFF;\n",
              "    }\n",
              "  </style>\n",
              "\n",
              "      <script>\n",
              "        const buttonEl =\n",
              "          document.querySelector('#df-f4439c9e-2e5b-454d-9a45-099a7bf827ee button.colab-df-convert');\n",
              "        buttonEl.style.display =\n",
              "          google.colab.kernel.accessAllowed ? 'block' : 'none';\n",
              "\n",
              "        async function convertToInteractive(key) {\n",
              "          const element = document.querySelector('#df-f4439c9e-2e5b-454d-9a45-099a7bf827ee');\n",
              "          const dataTable =\n",
              "            await google.colab.kernel.invokeFunction('convertToInteractive',\n",
              "                                                     [key], {});\n",
              "          if (!dataTable) return;\n",
              "\n",
              "          const docLinkHtml = 'Like what you see? Visit the ' +\n",
              "            '<a target=\"_blank\" href=https://colab.research.google.com/notebooks/data_table.ipynb>data table notebook</a>'\n",
              "            + ' to learn more about interactive tables.';\n",
              "          element.innerHTML = '';\n",
              "          dataTable['output_type'] = 'display_data';\n",
              "          await google.colab.output.renderOutput(dataTable, element);\n",
              "          const docLink = document.createElement('div');\n",
              "          docLink.innerHTML = docLinkHtml;\n",
              "          element.appendChild(docLink);\n",
              "        }\n",
              "      </script>\n",
              "    </div>\n",
              "  </div>\n",
              "  "
            ]
          },
          "metadata": {},
          "execution_count": 50
        }
      ]
    },
    {
      "cell_type": "code",
      "source": [
        "airbnb_data.columns"
      ],
      "metadata": {
        "colab": {
          "base_uri": "https://localhost:8080/"
        },
        "id": "HzX2HHY9Y8CW",
        "outputId": "bca855dc-9369-4a87-e46e-59d261bd98b4"
      },
      "execution_count": 51,
      "outputs": [
        {
          "output_type": "execute_result",
          "data": {
            "text/plain": [
              "Index(['id', 'experiences_offered', 'host_id', 'host_name', 'host_since',\n",
              "       'host_location', 'host_response_time', 'host_response_rate',\n",
              "       'host_acceptance_rate', 'host_is_superhost', 'host_neighbourhood',\n",
              "       'host_listings_count', 'host_total_listings_count',\n",
              "       'host_has_profile_pic', 'host_identity_verified', 'street',\n",
              "       'neighbourhood', 'neighbourhood_cleansed',\n",
              "       'neighbourhood_group_cleansed', 'city', 'state', 'zipcode', 'market',\n",
              "       'smart_location', 'country_code', 'country', 'latitude', 'longitude',\n",
              "       'is_location_exact', 'property_type', 'room_type', 'accommodates',\n",
              "       'bathrooms', 'bedrooms', 'beds', 'bed_type', 'square_feet', 'price',\n",
              "       'weekly_price', 'monthly_price', 'security_deposit', 'cleaning_fee',\n",
              "       'guests_included', 'extra_people', 'minimum_nights', 'maximum_nights',\n",
              "       'minimum_minimum_nights', 'maximum_minimum_nights',\n",
              "       'minimum_maximum_nights', 'maximum_maximum_nights',\n",
              "       'minimum_nights_avg_ntm', 'maximum_nights_avg_ntm', 'calendar_updated',\n",
              "       'has_availability', 'availability_30', 'availability_60',\n",
              "       'availability_90', 'availability_365', 'calendar_last_scraped',\n",
              "       'number_of_reviews', 'number_of_reviews_ltm', 'first_review',\n",
              "       'last_review', 'review_scores_rating', 'review_scores_accuracy',\n",
              "       'review_scores_cleanliness', 'review_scores_checkin',\n",
              "       'review_scores_communication', 'review_scores_location',\n",
              "       'review_scores_value', 'requires_license', 'license',\n",
              "       'instant_bookable', 'is_business_travel_ready', 'cancellation_policy',\n",
              "       'require_guest_profile_picture', 'require_guest_phone_verification',\n",
              "       'calculated_host_listings_count',\n",
              "       'calculated_host_listings_count_entire_homes',\n",
              "       'calculated_host_listings_count_private_rooms',\n",
              "       'calculated_host_listings_count_shared_rooms', 'reviews_per_month'],\n",
              "      dtype='object')"
            ]
          },
          "metadata": {},
          "execution_count": 51
        }
      ]
    },
    {
      "cell_type": "markdown",
      "source": [
        "# Hay varios datos innecesarios, además muchos de ellos no son de tipo numérico"
      ],
      "metadata": {
        "id": "NxAuVwel6GsQ"
      }
    },
    {
      "cell_type": "code",
      "source": [
        "airbnb_data = airbnb_data.drop(['id','experiences_offered','host_id', 'host_name','host_location','host_response_time','host_response_rate',\n",
        "       'host_acceptance_rate', 'host_is_superhost', 'host_neighbourhood','host_listings_count','host_has_profile_pic', 'host_identity_verified', 'street',\n",
        "       'neighbourhood', 'neighbourhood_cleansed','neighbourhood_group_cleansed', 'zipcode', 'market','smart_location', 'country_code', 'country','calendar_last_scraped','first_review','last_review',\n",
        "        'requires_license', 'license','require_guest_profile_picture', 'require_guest_phone_verification'], axis=1)"
      ],
      "metadata": {
        "id": "Ek8VNqgK6CQd"
      },
      "execution_count": 52,
      "outputs": []
    },
    {
      "cell_type": "markdown",
      "source": [
        "#Con esto se eliminan los datos irrelevantes, ahora vamos a ir cambiando la representación de algunos datos para que sea numérica y se pueda aplicar un modelo de regresión\n",
        "\n"
      ],
      "metadata": {
        "id": "MCCXK0MwQEKO"
      }
    },
    {
      "cell_type": "code",
      "source": [
        "airbnb_data.columns"
      ],
      "metadata": {
        "colab": {
          "base_uri": "https://localhost:8080/"
        },
        "id": "OWti7__XeCze",
        "outputId": "ae214c3f-fda3-449a-c706-bad6d903d02a"
      },
      "execution_count": 53,
      "outputs": [
        {
          "output_type": "execute_result",
          "data": {
            "text/plain": [
              "Index(['host_since', 'host_total_listings_count', 'city', 'state', 'latitude',\n",
              "       'longitude', 'is_location_exact', 'property_type', 'room_type',\n",
              "       'accommodates', 'bathrooms', 'bedrooms', 'beds', 'bed_type',\n",
              "       'square_feet', 'price', 'weekly_price', 'monthly_price',\n",
              "       'security_deposit', 'cleaning_fee', 'guests_included', 'extra_people',\n",
              "       'minimum_nights', 'maximum_nights', 'minimum_minimum_nights',\n",
              "       'maximum_minimum_nights', 'minimum_maximum_nights',\n",
              "       'maximum_maximum_nights', 'minimum_nights_avg_ntm',\n",
              "       'maximum_nights_avg_ntm', 'calendar_updated', 'has_availability',\n",
              "       'availability_30', 'availability_60', 'availability_90',\n",
              "       'availability_365', 'number_of_reviews', 'number_of_reviews_ltm',\n",
              "       'review_scores_rating', 'review_scores_accuracy',\n",
              "       'review_scores_cleanliness', 'review_scores_checkin',\n",
              "       'review_scores_communication', 'review_scores_location',\n",
              "       'review_scores_value', 'instant_bookable', 'is_business_travel_ready',\n",
              "       'cancellation_policy', 'calculated_host_listings_count',\n",
              "       'calculated_host_listings_count_entire_homes',\n",
              "       'calculated_host_listings_count_private_rooms',\n",
              "       'calculated_host_listings_count_shared_rooms', 'reviews_per_month'],\n",
              "      dtype='object')"
            ]
          },
          "metadata": {},
          "execution_count": 53
        }
      ]
    },
    {
      "cell_type": "markdown",
      "source": [
        "# 1 Cambiamos las feature de host_since por una variable numérica que bos dice cuantos dás lleva siendo host "
      ],
      "metadata": {
        "id": "PC-ZUW9Tl-ye"
      }
    },
    {
      "cell_type": "code",
      "source": [
        "for i in range(len(airbnb_data['host_since'])):\n",
        "\n",
        "  #Hay que ver que exista algún valor y no sea Nan \n",
        "  if type(airbnb_data['host_since'][i])==str:\n",
        "\n",
        "    #Se separa la fecha en años meses y dias \n",
        "    lista = airbnb_data['host_since'][i].split('-')\n",
        "\n",
        "    #Pasar todo a días, sumarlo e imputar por el antiguo valor \n",
        "    airbnb_data['host_since'][i] = (365*2023-int(lista[0])*365+int(lista[1])*30+int(lista[2]))\n",
        "  \n",
        "  \n"
      ],
      "metadata": {
        "colab": {
          "base_uri": "https://localhost:8080/"
        },
        "id": "-HJpP1IgQzA7",
        "outputId": "d375b5f5-21ed-48c3-c198-a7427faea039"
      },
      "execution_count": 54,
      "outputs": [
        {
          "output_type": "stream",
          "name": "stderr",
          "text": [
            "<ipython-input-54-ca43206446d6>:10: SettingWithCopyWarning: \n",
            "A value is trying to be set on a copy of a slice from a DataFrame\n",
            "\n",
            "See the caveats in the documentation: https://pandas.pydata.org/pandas-docs/stable/user_guide/indexing.html#returning-a-view-versus-a-copy\n",
            "  airbnb_data['host_since'][i] = (365*2023-int(lista[0])*365+int(lista[1])*30+int(lista[2]))\n"
          ]
        }
      ]
    },
    {
      "cell_type": "markdown",
      "source": [
        "Aquí se ha cambiado la representación de host_since para que en vez de decir la fecha de ingreso, diga los días que han pasado desde su ingreso"
      ],
      "metadata": {
        "id": "M_dNJ1NsiVXS"
      }
    },
    {
      "cell_type": "code",
      "source": [
        "lista_de_ciudades=[]\n",
        "for city in airbnb_data['city']:\n",
        "  if city not in lista_de_ciudades:\n",
        "    lista_de_ciudades.append(city)\n",
        "\n",
        "lista_de_ciudades"
      ],
      "metadata": {
        "colab": {
          "base_uri": "https://localhost:8080/"
        },
        "id": "172-cKcnleiG",
        "outputId": "77a491a2-ecd1-4f13-c6b7-f92f15bdc3de"
      },
      "execution_count": 55,
      "outputs": [
        {
          "output_type": "execute_result",
          "data": {
            "text/plain": [
              "['Vancouver',\n",
              " 'Crosstown Vancouver',\n",
              " 'Vancouver ',\n",
              " 'Vancouver bc',\n",
              " nan,\n",
              " 'BC',\n",
              " 'Burnaby',\n",
              " 'Vancouver, Yaletown',\n",
              " 'North Vancouver',\n",
              " 'vancouver',\n",
              " '_����\\u038d_',\n",
              " ' Vancouver',\n",
              " 'West Vancouver',\n",
              " 'Richmond',\n",
              " 'West End Vancouver ']"
            ]
          },
          "metadata": {},
          "execution_count": 55
        }
      ]
    },
    {
      "cell_type": "markdown",
      "source": [
        "## Se puede observar que todos los datos son de apartamentos de alguna parte de vancouver, así que vamos a imputar estos datos por la distancia al centro de vancouver"
      ],
      "metadata": {
        "id": "xaG93RRDzbe0"
      }
    },
    {
      "cell_type": "code",
      "source": [
        "\n",
        "import math\n",
        "\n",
        "def calcular_distancia(lat1, lon1, lat2, lon2):\n",
        "    # Convertir las latitudes y longitudes a radianes\n",
        "    lat1 = math.radians(lat1)\n",
        "    lon1 = math.radians(lon1)\n",
        "    lat2 = math.radians(lat2)\n",
        "    lon2 = math.radians(lon2)\n",
        "\n",
        "    # Radio de la Tierra en kilómetros\n",
        "    radio_tierra = 6371\n",
        "\n",
        "    # Diferencia entre las latitudes y longitudes\n",
        "    dlat = lat2 - lat1\n",
        "    dlon = lon2 - lon1\n",
        "\n",
        "    # Fórmula del haversine\n",
        "    a = math.sin(dlat/2)**2 + math.cos(lat1) * math.cos(lat2) * math.sin(dlon/2)**2\n",
        "    c = 2 * math.atan2(math.sqrt(a), math.sqrt(1-a))\n",
        "\n",
        "    # Calcular la distancia en kilómetros\n",
        "    distancia = radio_tierra * c\n",
        "\n",
        "    return distancia"
      ],
      "metadata": {
        "id": "7XSa4ThOfrDe"
      },
      "execution_count": 56,
      "outputs": []
    },
    {
      "cell_type": "markdown",
      "source": [
        "Vamos a imoputar los valores de ciudad por la distancia al centro de Vancouber "
      ],
      "metadata": {
        "id": "q_f9AxrT2vk-"
      }
    },
    {
      "cell_type": "code",
      "source": [
        "#Distancia al centro sacado de Google\n",
        "Centro_Vancouver = (45.631111, -122.671667)\n",
        "\n",
        "for i in range(len(airbnb_data['city'])):\n",
        "  \n",
        "\n",
        "  #si la localización es fiable imputamo\n",
        "  if airbnb_data['is_location_exact'][i] == 't':\n",
        "\n",
        "    #usamos la formula programada anteriormente para la distancia\n",
        "    airbnb_data['city'][i] = calcular_distancia(airbnb_data['latitude'][i] , airbnb_data['longitude'][i] , 45.631111, -122.671667)\n",
        "  \n",
        "  else:\n",
        "    #Luego imputaraemos estos datos por la media\n",
        "    airbnb_data['city'][i] = None\n"
      ],
      "metadata": {
        "colab": {
          "base_uri": "https://localhost:8080/"
        },
        "id": "eqWbzjD7njfg",
        "outputId": "f7730e02-a266-46b1-c898-9a5cb574168c"
      },
      "execution_count": 57,
      "outputs": [
        {
          "output_type": "stream",
          "name": "stderr",
          "text": [
            "<ipython-input-57-b5573d0ce73f>:11: SettingWithCopyWarning: \n",
            "A value is trying to be set on a copy of a slice from a DataFrame\n",
            "\n",
            "See the caveats in the documentation: https://pandas.pydata.org/pandas-docs/stable/user_guide/indexing.html#returning-a-view-versus-a-copy\n",
            "  airbnb_data['city'][i] = calcular_distancia(airbnb_data['latitude'][i] , airbnb_data['longitude'][i] , 45.631111, -122.671667)\n",
            "<ipython-input-57-b5573d0ce73f>:15: SettingWithCopyWarning: \n",
            "A value is trying to be set on a copy of a slice from a DataFrame\n",
            "\n",
            "See the caveats in the documentation: https://pandas.pydata.org/pandas-docs/stable/user_guide/indexing.html#returning-a-view-versus-a-copy\n",
            "  airbnb_data['city'][i] = None\n"
          ]
        }
      ]
    },
    {
      "cell_type": "code",
      "source": [
        "airbnb_data = airbnb_data.drop( ['state', 'latitude','longitude', 'is_location_exact'], axis=1)"
      ],
      "metadata": {
        "id": "ict-Hulsp3sV"
      },
      "execution_count": 58,
      "outputs": []
    },
    {
      "cell_type": "code",
      "source": [
        "airbnb_data.columns"
      ],
      "metadata": {
        "colab": {
          "base_uri": "https://localhost:8080/"
        },
        "id": "kB2Cg01skIdh",
        "outputId": "7d34c69a-7f70-44b9-ed5f-bce767edbb60"
      },
      "execution_count": 59,
      "outputs": [
        {
          "output_type": "execute_result",
          "data": {
            "text/plain": [
              "Index(['host_since', 'host_total_listings_count', 'city', 'property_type',\n",
              "       'room_type', 'accommodates', 'bathrooms', 'bedrooms', 'beds',\n",
              "       'bed_type', 'square_feet', 'price', 'weekly_price', 'monthly_price',\n",
              "       'security_deposit', 'cleaning_fee', 'guests_included', 'extra_people',\n",
              "       'minimum_nights', 'maximum_nights', 'minimum_minimum_nights',\n",
              "       'maximum_minimum_nights', 'minimum_maximum_nights',\n",
              "       'maximum_maximum_nights', 'minimum_nights_avg_ntm',\n",
              "       'maximum_nights_avg_ntm', 'calendar_updated', 'has_availability',\n",
              "       'availability_30', 'availability_60', 'availability_90',\n",
              "       'availability_365', 'number_of_reviews', 'number_of_reviews_ltm',\n",
              "       'review_scores_rating', 'review_scores_accuracy',\n",
              "       'review_scores_cleanliness', 'review_scores_checkin',\n",
              "       'review_scores_communication', 'review_scores_location',\n",
              "       'review_scores_value', 'instant_bookable', 'is_business_travel_ready',\n",
              "       'cancellation_policy', 'calculated_host_listings_count',\n",
              "       'calculated_host_listings_count_entire_homes',\n",
              "       'calculated_host_listings_count_private_rooms',\n",
              "       'calculated_host_listings_count_shared_rooms', 'reviews_per_month'],\n",
              "      dtype='object')"
            ]
          },
          "metadata": {},
          "execution_count": 59
        }
      ]
    },
    {
      "cell_type": "markdown",
      "source": [
        "\n"
      ],
      "metadata": {
        "id": "mrHSF65Uk7RE"
      }
    },
    {
      "cell_type": "markdown",
      "source": [
        "# FEATURES SOBRE LA VIVIENDA\n"
      ],
      "metadata": {
        "id": "K7x8tUeplJoc"
      }
    },
    {
      "cell_type": "markdown",
      "source": [
        "Voy a imputar los tipos de viviendas por un valor númerico, que codificará las features "
      ],
      "metadata": {
        "id": "iagsFDhWmwnM"
      }
    },
    {
      "cell_type": "markdown",
      "source": [
        "## Aquí podemos observar que tipos de viviendas se ofrecen "
      ],
      "metadata": {
        "id": "-b7WG4MIq_C1"
      }
    },
    {
      "cell_type": "code",
      "source": [
        "lista_tipo_vivienda=[]\n",
        "for tipo in airbnb_data['property_type']:\n",
        "  if tipo not in lista_tipo_vivienda:\n",
        "    lista_tipo_vivienda.append(tipo)\n",
        "\n",
        "lista_tipo_vivienda\n"
      ],
      "metadata": {
        "colab": {
          "base_uri": "https://localhost:8080/"
        },
        "id": "GQVAdXnxkcNC",
        "outputId": "32828c95-a11a-4e6d-a813-d66f86524d4f"
      },
      "execution_count": 60,
      "outputs": [
        {
          "output_type": "execute_result",
          "data": {
            "text/plain": [
              "['Condominium',\n",
              " 'House',\n",
              " 'Apartment',\n",
              " 'Guest suite',\n",
              " 'Townhouse',\n",
              " 'Loft',\n",
              " 'Serviced apartment',\n",
              " 'Tiny house',\n",
              " 'Guesthouse',\n",
              " 'Bed and breakfast',\n",
              " 'Boutique hotel',\n",
              " 'Bungalow',\n",
              " 'Other',\n",
              " 'Cabin',\n",
              " 'Villa',\n",
              " 'Hotel',\n",
              " 'Cottage',\n",
              " 'Camper/RV',\n",
              " 'Resort',\n",
              " 'Farm stay',\n",
              " 'Barn',\n",
              " 'Timeshare',\n",
              " 'Aparthotel']"
            ]
          },
          "metadata": {},
          "execution_count": 60
        }
      ]
    },
    {
      "cell_type": "markdown",
      "source": [
        "# Convertimos los datos en variables categóricas \n"
      ],
      "metadata": {
        "id": "MJsaKeYSq2ue"
      }
    },
    {
      "cell_type": "code",
      "source": [
        "codificacion = pd.get_dummies(airbnb_data['property_type'], prefix='property')\n",
        "airbnb_data = pd.concat([airbnb_data, codificacion], axis=1)\n",
        "airbnb_data = airbnb_data.drop(['property_type'], axis=1)"
      ],
      "metadata": {
        "id": "GD8KDtQ2ogzG"
      },
      "execution_count": 61,
      "outputs": []
    },
    {
      "cell_type": "code",
      "source": [
        "lista_tipo_habitacion=[]\n",
        "for tipo in airbnb_data['room_type']:\n",
        "  if tipo not in lista_tipo_habitacion:\n",
        "    lista_tipo_habitacion.append(tipo)\n",
        "\n",
        "lista_tipo_habitacion\n"
      ],
      "metadata": {
        "colab": {
          "base_uri": "https://localhost:8080/"
        },
        "id": "lU0Oj721qrR2",
        "outputId": "d9dcedee-dee4-42b6-d350-e28318daf29f"
      },
      "execution_count": 62,
      "outputs": [
        {
          "output_type": "execute_result",
          "data": {
            "text/plain": [
              "['Entire home/apt', 'Private room', 'Shared room']"
            ]
          },
          "metadata": {},
          "execution_count": 62
        }
      ]
    },
    {
      "cell_type": "markdown",
      "source": [
        "### Para no crear más variables, en este caso imputaremos por 0, 1 o 2 dependiendo de si es Shared_room, Private_room o Entire home/apt respectivamente "
      ],
      "metadata": {
        "id": "t8_dYM3BsLmG"
      }
    },
    {
      "cell_type": "code",
      "source": [
        "for i in range(len(airbnb_data['room_type']) ):\n",
        "  if airbnb_data['room_type'][i]=='Shared room':\n",
        "    airbnb_data['room_type'][i]=0\n",
        "\n",
        "  elif airbnb_data['room_type'][i]=='Private room':\n",
        "    airbnb_data['room_type'][i]=1\n",
        "  else:\n",
        "    airbnb_data['room_type'][i]=2\n",
        "  "
      ],
      "metadata": {
        "colab": {
          "base_uri": "https://localhost:8080/"
        },
        "id": "QAefByF7sJvo",
        "outputId": "4457587f-66bd-49f7-91aa-f568d8b93ecc"
      },
      "execution_count": 63,
      "outputs": [
        {
          "output_type": "stream",
          "name": "stderr",
          "text": [
            "<ipython-input-63-b8d53d9e4c31>:8: SettingWithCopyWarning: \n",
            "A value is trying to be set on a copy of a slice from a DataFrame\n",
            "\n",
            "See the caveats in the documentation: https://pandas.pydata.org/pandas-docs/stable/user_guide/indexing.html#returning-a-view-versus-a-copy\n",
            "  airbnb_data['room_type'][i]=2\n",
            "<ipython-input-63-b8d53d9e4c31>:6: SettingWithCopyWarning: \n",
            "A value is trying to be set on a copy of a slice from a DataFrame\n",
            "\n",
            "See the caveats in the documentation: https://pandas.pydata.org/pandas-docs/stable/user_guide/indexing.html#returning-a-view-versus-a-copy\n",
            "  airbnb_data['room_type'][i]=1\n",
            "<ipython-input-63-b8d53d9e4c31>:3: SettingWithCopyWarning: \n",
            "A value is trying to be set on a copy of a slice from a DataFrame\n",
            "\n",
            "See the caveats in the documentation: https://pandas.pydata.org/pandas-docs/stable/user_guide/indexing.html#returning-a-view-versus-a-copy\n",
            "  airbnb_data['room_type'][i]=0\n"
          ]
        }
      ]
    },
    {
      "cell_type": "markdown",
      "source": [],
      "metadata": {
        "id": "-uRahlZ4sKyW"
      }
    },
    {
      "cell_type": "code",
      "source": [
        "airbnb_data = airbnb_data.drop(['security_deposit', 'cleaning_fee', 'guests_included', 'extra_people',\n",
        "       'minimum_nights', 'maximum_nights', 'minimum_minimum_nights',\n",
        "       'maximum_minimum_nights', 'minimum_maximum_nights',\n",
        "       'maximum_maximum_nights', 'minimum_nights_avg_ntm',\n",
        "       'maximum_nights_avg_ntm', 'calendar_updated', 'has_availability'], axis=1)"
      ],
      "metadata": {
        "id": "aTIS3CCuuQvn"
      },
      "execution_count": 70,
      "outputs": []
    },
    {
      "cell_type": "markdown",
      "source": [
        "# Con esto se imputtan los valors missing por la mediana del conjunto total de los datos"
      ],
      "metadata": {
        "id": "y0JogX2j4OB0"
      }
    },
    {
      "cell_type": "code",
      "source": [
        "for feature in airbnb_data.columns:\n",
        "  airbnb_data[feature] = airbnb_data.fillna(airbnb_data.median())\n"
      ],
      "metadata": {
        "colab": {
          "base_uri": "https://localhost:8080/",
          "height": 419
        },
        "id": "EqL9CJOn2aou",
        "outputId": "97d90168-a0a7-4bf0-a289-0ea4fc0bb996"
      },
      "execution_count": 75,
      "outputs": [
        {
          "output_type": "stream",
          "name": "stdout",
          "text": [
            "1\n"
          ]
        },
        {
          "output_type": "stream",
          "name": "stderr",
          "text": [
            "<ipython-input-75-d38f4ef44ed4>:3: FutureWarning: The default value of numeric_only in DataFrame.median is deprecated. In a future version, it will default to False. In addition, specifying 'numeric_only=None' is deprecated. Select only valid columns or specify the value of numeric_only to silence this warning.\n",
            "  airbnb_data[feature] = airbnb_data.fillna(airbnb_data.median())\n"
          ]
        },
        {
          "output_type": "error",
          "ename": "ValueError",
          "evalue": "ignored",
          "traceback": [
            "\u001b[0;31m---------------------------------------------------------------------------\u001b[0m",
            "\u001b[0;31mValueError\u001b[0m                                Traceback (most recent call last)",
            "\u001b[0;32m<ipython-input-75-d38f4ef44ed4>\u001b[0m in \u001b[0;36m<cell line: 1>\u001b[0;34m()\u001b[0m\n\u001b[1;32m      1\u001b[0m \u001b[0;32mfor\u001b[0m \u001b[0mfeature\u001b[0m \u001b[0;32min\u001b[0m \u001b[0mairbnb_data\u001b[0m\u001b[0;34m.\u001b[0m\u001b[0mcolumns\u001b[0m\u001b[0;34m:\u001b[0m\u001b[0;34m\u001b[0m\u001b[0;34m\u001b[0m\u001b[0m\n\u001b[1;32m      2\u001b[0m   \u001b[0mprint\u001b[0m\u001b[0;34m(\u001b[0m\u001b[0;36m1\u001b[0m\u001b[0;34m)\u001b[0m\u001b[0;34m\u001b[0m\u001b[0;34m\u001b[0m\u001b[0m\n\u001b[0;32m----> 3\u001b[0;31m   \u001b[0mairbnb_data\u001b[0m\u001b[0;34m[\u001b[0m\u001b[0mfeature\u001b[0m\u001b[0;34m]\u001b[0m \u001b[0;34m=\u001b[0m \u001b[0mairbnb_data\u001b[0m\u001b[0;34m.\u001b[0m\u001b[0mfillna\u001b[0m\u001b[0;34m(\u001b[0m\u001b[0mairbnb_data\u001b[0m\u001b[0;34m.\u001b[0m\u001b[0mmedian\u001b[0m\u001b[0;34m(\u001b[0m\u001b[0;34m)\u001b[0m\u001b[0;34m)\u001b[0m\u001b[0;34m\u001b[0m\u001b[0;34m\u001b[0m\u001b[0m\n\u001b[0m",
            "\u001b[0;32m/usr/local/lib/python3.10/dist-packages/pandas/core/frame.py\u001b[0m in \u001b[0;36m__setitem__\u001b[0;34m(self, key, value)\u001b[0m\n\u001b[1;32m   3968\u001b[0m             \u001b[0mself\u001b[0m\u001b[0;34m.\u001b[0m\u001b[0m_setitem_array\u001b[0m\u001b[0;34m(\u001b[0m\u001b[0mkey\u001b[0m\u001b[0;34m,\u001b[0m \u001b[0mvalue\u001b[0m\u001b[0;34m)\u001b[0m\u001b[0;34m\u001b[0m\u001b[0;34m\u001b[0m\u001b[0m\n\u001b[1;32m   3969\u001b[0m         \u001b[0;32melif\u001b[0m \u001b[0misinstance\u001b[0m\u001b[0;34m(\u001b[0m\u001b[0mvalue\u001b[0m\u001b[0;34m,\u001b[0m \u001b[0mDataFrame\u001b[0m\u001b[0;34m)\u001b[0m\u001b[0;34m:\u001b[0m\u001b[0;34m\u001b[0m\u001b[0;34m\u001b[0m\u001b[0m\n\u001b[0;32m-> 3970\u001b[0;31m             \u001b[0mself\u001b[0m\u001b[0;34m.\u001b[0m\u001b[0m_set_item_frame_value\u001b[0m\u001b[0;34m(\u001b[0m\u001b[0mkey\u001b[0m\u001b[0;34m,\u001b[0m \u001b[0mvalue\u001b[0m\u001b[0;34m)\u001b[0m\u001b[0;34m\u001b[0m\u001b[0;34m\u001b[0m\u001b[0m\n\u001b[0m\u001b[1;32m   3971\u001b[0m         elif (\n\u001b[1;32m   3972\u001b[0m             \u001b[0mis_list_like\u001b[0m\u001b[0;34m(\u001b[0m\u001b[0mvalue\u001b[0m\u001b[0;34m)\u001b[0m\u001b[0;34m\u001b[0m\u001b[0;34m\u001b[0m\u001b[0m\n",
            "\u001b[0;32m/usr/local/lib/python3.10/dist-packages/pandas/core/frame.py\u001b[0m in \u001b[0;36m_set_item_frame_value\u001b[0;34m(self, key, value)\u001b[0m\n\u001b[1;32m   4098\u001b[0m             \u001b[0mlen_cols\u001b[0m \u001b[0;34m=\u001b[0m \u001b[0;36m1\u001b[0m \u001b[0;32mif\u001b[0m \u001b[0mis_scalar\u001b[0m\u001b[0;34m(\u001b[0m\u001b[0mcols\u001b[0m\u001b[0;34m)\u001b[0m \u001b[0;32melse\u001b[0m \u001b[0mlen\u001b[0m\u001b[0;34m(\u001b[0m\u001b[0mcols\u001b[0m\u001b[0;34m)\u001b[0m\u001b[0;34m\u001b[0m\u001b[0;34m\u001b[0m\u001b[0m\n\u001b[1;32m   4099\u001b[0m             \u001b[0;32mif\u001b[0m \u001b[0mlen_cols\u001b[0m \u001b[0;34m!=\u001b[0m \u001b[0mlen\u001b[0m\u001b[0;34m(\u001b[0m\u001b[0mvalue\u001b[0m\u001b[0;34m.\u001b[0m\u001b[0mcolumns\u001b[0m\u001b[0;34m)\u001b[0m\u001b[0;34m:\u001b[0m\u001b[0;34m\u001b[0m\u001b[0;34m\u001b[0m\u001b[0m\n\u001b[0;32m-> 4100\u001b[0;31m                 \u001b[0;32mraise\u001b[0m \u001b[0mValueError\u001b[0m\u001b[0;34m(\u001b[0m\u001b[0;34m\"Columns must be same length as key\"\u001b[0m\u001b[0;34m)\u001b[0m\u001b[0;34m\u001b[0m\u001b[0;34m\u001b[0m\u001b[0m\n\u001b[0m\u001b[1;32m   4101\u001b[0m \u001b[0;34m\u001b[0m\u001b[0m\n\u001b[1;32m   4102\u001b[0m             \u001b[0;31m# align right-hand-side columns if self.columns\u001b[0m\u001b[0;34m\u001b[0m\u001b[0;34m\u001b[0m\u001b[0m\n",
            "\u001b[0;31mValueError\u001b[0m: Columns must be same length as key"
          ]
        }
      ]
    }
  ]
}